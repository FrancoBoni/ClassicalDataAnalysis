{
 "cells": [
  {
   "cell_type": "markdown",
   "metadata": {},
   "source": [
    "# Subject: Classical Data Analysis\n",
    "\n",
    "## Session 1 - Regression\n",
    "\n",
    "### Individual assignment 2\n",
    "\n",
    "Elaborate with only the first feature of the \"iris\" sklearn dataset, in order to illustrate a two-dimensional plot of this regression technique. \n",
    "\n",
    "Use the field “sepal width (cm)” as independent variable and the field “sepal length (cm)” as dependent variable.\n",
    "\n",
    "Calculate the coefficients, the residual sum of squares and the variance score.\n",
    "\n",
    "- Interpret and discuss the Regression Results.\n",
    "- Commit scripts in your GitHub account. You should export your solution code (.ipynb notebook) and push it to your repository “ClassicalDataAnalysis”.\n",
    "\n",
    "The following are the tasks that should complete and synchronize with your repository “ClassicalDataAnalysis” until October 13. Please notice that none of these tasks is graded, however it’s important that you correctly understand and complete them in order to be sure that you won’t have problems with further assignments."
   ]
  },
  {
   "cell_type": "markdown",
   "metadata": {},
   "source": [
    "# Import the Python Libraries"
   ]
  },
  {
   "cell_type": "code",
   "execution_count": 1,
   "metadata": {
    "collapsed": true
   },
   "outputs": [],
   "source": [
    "import matplotlib.pyplot as plt\n",
    "import numpy as np\n",
    "from sklearn import datasets, linear_model\n",
    "from sklearn.metrics import mean_squared_error, r2_score"
   ]
  },
  {
   "cell_type": "markdown",
   "metadata": {},
   "source": [
    "# Load the iris dataset"
   ]
  },
  {
   "cell_type": "code",
   "execution_count": 2,
   "metadata": {
    "collapsed": true
   },
   "outputs": [],
   "source": [
    "iris = datasets.load_iris()"
   ]
  },
  {
   "cell_type": "markdown",
   "metadata": {},
   "source": [
    "# Use only one feature for the dependent variable (sepal length (cm))"
   ]
  },
  {
   "cell_type": "code",
   "execution_count": 5,
   "metadata": {
    "collapsed": true
   },
   "outputs": [],
   "source": [
    "iris_y = iris.data[:, np.newaxis, 0]"
   ]
  },
  {
   "cell_type": "code",
   "execution_count": 6,
   "metadata": {},
   "outputs": [
    {
     "data": {
      "text/plain": [
       "array([[ 5.1],\n",
       "       [ 4.9],\n",
       "       [ 4.7],\n",
       "       [ 4.6],\n",
       "       [ 5. ],\n",
       "       [ 5.4],\n",
       "       [ 4.6],\n",
       "       [ 5. ],\n",
       "       [ 4.4],\n",
       "       [ 4.9],\n",
       "       [ 5.4],\n",
       "       [ 4.8],\n",
       "       [ 4.8],\n",
       "       [ 4.3],\n",
       "       [ 5.8],\n",
       "       [ 5.7],\n",
       "       [ 5.4],\n",
       "       [ 5.1],\n",
       "       [ 5.7],\n",
       "       [ 5.1],\n",
       "       [ 5.4],\n",
       "       [ 5.1],\n",
       "       [ 4.6],\n",
       "       [ 5.1],\n",
       "       [ 4.8],\n",
       "       [ 5. ],\n",
       "       [ 5. ],\n",
       "       [ 5.2],\n",
       "       [ 5.2],\n",
       "       [ 4.7],\n",
       "       [ 4.8],\n",
       "       [ 5.4],\n",
       "       [ 5.2],\n",
       "       [ 5.5],\n",
       "       [ 4.9],\n",
       "       [ 5. ],\n",
       "       [ 5.5],\n",
       "       [ 4.9],\n",
       "       [ 4.4],\n",
       "       [ 5.1],\n",
       "       [ 5. ],\n",
       "       [ 4.5],\n",
       "       [ 4.4],\n",
       "       [ 5. ],\n",
       "       [ 5.1],\n",
       "       [ 4.8],\n",
       "       [ 5.1],\n",
       "       [ 4.6],\n",
       "       [ 5.3],\n",
       "       [ 5. ],\n",
       "       [ 7. ],\n",
       "       [ 6.4],\n",
       "       [ 6.9],\n",
       "       [ 5.5],\n",
       "       [ 6.5],\n",
       "       [ 5.7],\n",
       "       [ 6.3],\n",
       "       [ 4.9],\n",
       "       [ 6.6],\n",
       "       [ 5.2],\n",
       "       [ 5. ],\n",
       "       [ 5.9],\n",
       "       [ 6. ],\n",
       "       [ 6.1],\n",
       "       [ 5.6],\n",
       "       [ 6.7],\n",
       "       [ 5.6],\n",
       "       [ 5.8],\n",
       "       [ 6.2],\n",
       "       [ 5.6],\n",
       "       [ 5.9],\n",
       "       [ 6.1],\n",
       "       [ 6.3],\n",
       "       [ 6.1],\n",
       "       [ 6.4],\n",
       "       [ 6.6],\n",
       "       [ 6.8],\n",
       "       [ 6.7],\n",
       "       [ 6. ],\n",
       "       [ 5.7],\n",
       "       [ 5.5],\n",
       "       [ 5.5],\n",
       "       [ 5.8],\n",
       "       [ 6. ],\n",
       "       [ 5.4],\n",
       "       [ 6. ],\n",
       "       [ 6.7],\n",
       "       [ 6.3],\n",
       "       [ 5.6],\n",
       "       [ 5.5],\n",
       "       [ 5.5],\n",
       "       [ 6.1],\n",
       "       [ 5.8],\n",
       "       [ 5. ],\n",
       "       [ 5.6],\n",
       "       [ 5.7],\n",
       "       [ 5.7],\n",
       "       [ 6.2],\n",
       "       [ 5.1],\n",
       "       [ 5.7],\n",
       "       [ 6.3],\n",
       "       [ 5.8],\n",
       "       [ 7.1],\n",
       "       [ 6.3],\n",
       "       [ 6.5],\n",
       "       [ 7.6],\n",
       "       [ 4.9],\n",
       "       [ 7.3],\n",
       "       [ 6.7],\n",
       "       [ 7.2],\n",
       "       [ 6.5],\n",
       "       [ 6.4],\n",
       "       [ 6.8],\n",
       "       [ 5.7],\n",
       "       [ 5.8],\n",
       "       [ 6.4],\n",
       "       [ 6.5],\n",
       "       [ 7.7],\n",
       "       [ 7.7],\n",
       "       [ 6. ],\n",
       "       [ 6.9],\n",
       "       [ 5.6],\n",
       "       [ 7.7],\n",
       "       [ 6.3],\n",
       "       [ 6.7],\n",
       "       [ 7.2],\n",
       "       [ 6.2],\n",
       "       [ 6.1],\n",
       "       [ 6.4],\n",
       "       [ 7.2],\n",
       "       [ 7.4],\n",
       "       [ 7.9],\n",
       "       [ 6.4],\n",
       "       [ 6.3],\n",
       "       [ 6.1],\n",
       "       [ 7.7],\n",
       "       [ 6.3],\n",
       "       [ 6.4],\n",
       "       [ 6. ],\n",
       "       [ 6.9],\n",
       "       [ 6.7],\n",
       "       [ 6.9],\n",
       "       [ 5.8],\n",
       "       [ 6.8],\n",
       "       [ 6.7],\n",
       "       [ 6.7],\n",
       "       [ 6.3],\n",
       "       [ 6.5],\n",
       "       [ 6.2],\n",
       "       [ 5.9]])"
      ]
     },
     "execution_count": 6,
     "metadata": {},
     "output_type": "execute_result"
    }
   ],
   "source": [
    "iris_y"
   ]
  },
  {
   "cell_type": "markdown",
   "metadata": {},
   "source": [
    "# Split the data of the dependent variable into training/testing sets"
   ]
  },
  {
   "cell_type": "code",
   "execution_count": 7,
   "metadata": {
    "collapsed": true
   },
   "outputs": [],
   "source": [
    "iris_y_train = iris_y[:-20]\n",
    "iris_y_test = iris_y[-20:]"
   ]
  },
  {
   "cell_type": "code",
   "execution_count": 8,
   "metadata": {},
   "outputs": [
    {
     "data": {
      "text/plain": [
       "array([[ 5.1],\n",
       "       [ 4.9],\n",
       "       [ 4.7],\n",
       "       [ 4.6],\n",
       "       [ 5. ],\n",
       "       [ 5.4],\n",
       "       [ 4.6],\n",
       "       [ 5. ],\n",
       "       [ 4.4],\n",
       "       [ 4.9],\n",
       "       [ 5.4],\n",
       "       [ 4.8],\n",
       "       [ 4.8],\n",
       "       [ 4.3],\n",
       "       [ 5.8],\n",
       "       [ 5.7],\n",
       "       [ 5.4],\n",
       "       [ 5.1],\n",
       "       [ 5.7],\n",
       "       [ 5.1],\n",
       "       [ 5.4],\n",
       "       [ 5.1],\n",
       "       [ 4.6],\n",
       "       [ 5.1],\n",
       "       [ 4.8],\n",
       "       [ 5. ],\n",
       "       [ 5. ],\n",
       "       [ 5.2],\n",
       "       [ 5.2],\n",
       "       [ 4.7],\n",
       "       [ 4.8],\n",
       "       [ 5.4],\n",
       "       [ 5.2],\n",
       "       [ 5.5],\n",
       "       [ 4.9],\n",
       "       [ 5. ],\n",
       "       [ 5.5],\n",
       "       [ 4.9],\n",
       "       [ 4.4],\n",
       "       [ 5.1],\n",
       "       [ 5. ],\n",
       "       [ 4.5],\n",
       "       [ 4.4],\n",
       "       [ 5. ],\n",
       "       [ 5.1],\n",
       "       [ 4.8],\n",
       "       [ 5.1],\n",
       "       [ 4.6],\n",
       "       [ 5.3],\n",
       "       [ 5. ],\n",
       "       [ 7. ],\n",
       "       [ 6.4],\n",
       "       [ 6.9],\n",
       "       [ 5.5],\n",
       "       [ 6.5],\n",
       "       [ 5.7],\n",
       "       [ 6.3],\n",
       "       [ 4.9],\n",
       "       [ 6.6],\n",
       "       [ 5.2],\n",
       "       [ 5. ],\n",
       "       [ 5.9],\n",
       "       [ 6. ],\n",
       "       [ 6.1],\n",
       "       [ 5.6],\n",
       "       [ 6.7],\n",
       "       [ 5.6],\n",
       "       [ 5.8],\n",
       "       [ 6.2],\n",
       "       [ 5.6],\n",
       "       [ 5.9],\n",
       "       [ 6.1],\n",
       "       [ 6.3],\n",
       "       [ 6.1],\n",
       "       [ 6.4],\n",
       "       [ 6.6],\n",
       "       [ 6.8],\n",
       "       [ 6.7],\n",
       "       [ 6. ],\n",
       "       [ 5.7],\n",
       "       [ 5.5],\n",
       "       [ 5.5],\n",
       "       [ 5.8],\n",
       "       [ 6. ],\n",
       "       [ 5.4],\n",
       "       [ 6. ],\n",
       "       [ 6.7],\n",
       "       [ 6.3],\n",
       "       [ 5.6],\n",
       "       [ 5.5],\n",
       "       [ 5.5],\n",
       "       [ 6.1],\n",
       "       [ 5.8],\n",
       "       [ 5. ],\n",
       "       [ 5.6],\n",
       "       [ 5.7],\n",
       "       [ 5.7],\n",
       "       [ 6.2],\n",
       "       [ 5.1],\n",
       "       [ 5.7],\n",
       "       [ 6.3],\n",
       "       [ 5.8],\n",
       "       [ 7.1],\n",
       "       [ 6.3],\n",
       "       [ 6.5],\n",
       "       [ 7.6],\n",
       "       [ 4.9],\n",
       "       [ 7.3],\n",
       "       [ 6.7],\n",
       "       [ 7.2],\n",
       "       [ 6.5],\n",
       "       [ 6.4],\n",
       "       [ 6.8],\n",
       "       [ 5.7],\n",
       "       [ 5.8],\n",
       "       [ 6.4],\n",
       "       [ 6.5],\n",
       "       [ 7.7],\n",
       "       [ 7.7],\n",
       "       [ 6. ],\n",
       "       [ 6.9],\n",
       "       [ 5.6],\n",
       "       [ 7.7],\n",
       "       [ 6.3],\n",
       "       [ 6.7],\n",
       "       [ 7.2],\n",
       "       [ 6.2],\n",
       "       [ 6.1],\n",
       "       [ 6.4],\n",
       "       [ 7.2]])"
      ]
     },
     "execution_count": 8,
     "metadata": {},
     "output_type": "execute_result"
    }
   ],
   "source": [
    "iris_y_train"
   ]
  },
  {
   "cell_type": "code",
   "execution_count": 9,
   "metadata": {},
   "outputs": [
    {
     "data": {
      "text/plain": [
       "array([[ 7.4],\n",
       "       [ 7.9],\n",
       "       [ 6.4],\n",
       "       [ 6.3],\n",
       "       [ 6.1],\n",
       "       [ 7.7],\n",
       "       [ 6.3],\n",
       "       [ 6.4],\n",
       "       [ 6. ],\n",
       "       [ 6.9],\n",
       "       [ 6.7],\n",
       "       [ 6.9],\n",
       "       [ 5.8],\n",
       "       [ 6.8],\n",
       "       [ 6.7],\n",
       "       [ 6.7],\n",
       "       [ 6.3],\n",
       "       [ 6.5],\n",
       "       [ 6.2],\n",
       "       [ 5.9]])"
      ]
     },
     "execution_count": 9,
     "metadata": {},
     "output_type": "execute_result"
    }
   ],
   "source": [
    "iris_y_test"
   ]
  },
  {
   "cell_type": "markdown",
   "metadata": {},
   "source": [
    "# Use only one feature for the independent variable (sepal width (cm))"
   ]
  },
  {
   "cell_type": "code",
   "execution_count": 10,
   "metadata": {
    "collapsed": true
   },
   "outputs": [],
   "source": [
    "iris_X = iris.data[:, np.newaxis, 1]"
   ]
  },
  {
   "cell_type": "code",
   "execution_count": 11,
   "metadata": {},
   "outputs": [
    {
     "data": {
      "text/plain": [
       "array([[ 3.5],\n",
       "       [ 3. ],\n",
       "       [ 3.2],\n",
       "       [ 3.1],\n",
       "       [ 3.6],\n",
       "       [ 3.9],\n",
       "       [ 3.4],\n",
       "       [ 3.4],\n",
       "       [ 2.9],\n",
       "       [ 3.1],\n",
       "       [ 3.7],\n",
       "       [ 3.4],\n",
       "       [ 3. ],\n",
       "       [ 3. ],\n",
       "       [ 4. ],\n",
       "       [ 4.4],\n",
       "       [ 3.9],\n",
       "       [ 3.5],\n",
       "       [ 3.8],\n",
       "       [ 3.8],\n",
       "       [ 3.4],\n",
       "       [ 3.7],\n",
       "       [ 3.6],\n",
       "       [ 3.3],\n",
       "       [ 3.4],\n",
       "       [ 3. ],\n",
       "       [ 3.4],\n",
       "       [ 3.5],\n",
       "       [ 3.4],\n",
       "       [ 3.2],\n",
       "       [ 3.1],\n",
       "       [ 3.4],\n",
       "       [ 4.1],\n",
       "       [ 4.2],\n",
       "       [ 3.1],\n",
       "       [ 3.2],\n",
       "       [ 3.5],\n",
       "       [ 3.1],\n",
       "       [ 3. ],\n",
       "       [ 3.4],\n",
       "       [ 3.5],\n",
       "       [ 2.3],\n",
       "       [ 3.2],\n",
       "       [ 3.5],\n",
       "       [ 3.8],\n",
       "       [ 3. ],\n",
       "       [ 3.8],\n",
       "       [ 3.2],\n",
       "       [ 3.7],\n",
       "       [ 3.3],\n",
       "       [ 3.2],\n",
       "       [ 3.2],\n",
       "       [ 3.1],\n",
       "       [ 2.3],\n",
       "       [ 2.8],\n",
       "       [ 2.8],\n",
       "       [ 3.3],\n",
       "       [ 2.4],\n",
       "       [ 2.9],\n",
       "       [ 2.7],\n",
       "       [ 2. ],\n",
       "       [ 3. ],\n",
       "       [ 2.2],\n",
       "       [ 2.9],\n",
       "       [ 2.9],\n",
       "       [ 3.1],\n",
       "       [ 3. ],\n",
       "       [ 2.7],\n",
       "       [ 2.2],\n",
       "       [ 2.5],\n",
       "       [ 3.2],\n",
       "       [ 2.8],\n",
       "       [ 2.5],\n",
       "       [ 2.8],\n",
       "       [ 2.9],\n",
       "       [ 3. ],\n",
       "       [ 2.8],\n",
       "       [ 3. ],\n",
       "       [ 2.9],\n",
       "       [ 2.6],\n",
       "       [ 2.4],\n",
       "       [ 2.4],\n",
       "       [ 2.7],\n",
       "       [ 2.7],\n",
       "       [ 3. ],\n",
       "       [ 3.4],\n",
       "       [ 3.1],\n",
       "       [ 2.3],\n",
       "       [ 3. ],\n",
       "       [ 2.5],\n",
       "       [ 2.6],\n",
       "       [ 3. ],\n",
       "       [ 2.6],\n",
       "       [ 2.3],\n",
       "       [ 2.7],\n",
       "       [ 3. ],\n",
       "       [ 2.9],\n",
       "       [ 2.9],\n",
       "       [ 2.5],\n",
       "       [ 2.8],\n",
       "       [ 3.3],\n",
       "       [ 2.7],\n",
       "       [ 3. ],\n",
       "       [ 2.9],\n",
       "       [ 3. ],\n",
       "       [ 3. ],\n",
       "       [ 2.5],\n",
       "       [ 2.9],\n",
       "       [ 2.5],\n",
       "       [ 3.6],\n",
       "       [ 3.2],\n",
       "       [ 2.7],\n",
       "       [ 3. ],\n",
       "       [ 2.5],\n",
       "       [ 2.8],\n",
       "       [ 3.2],\n",
       "       [ 3. ],\n",
       "       [ 3.8],\n",
       "       [ 2.6],\n",
       "       [ 2.2],\n",
       "       [ 3.2],\n",
       "       [ 2.8],\n",
       "       [ 2.8],\n",
       "       [ 2.7],\n",
       "       [ 3.3],\n",
       "       [ 3.2],\n",
       "       [ 2.8],\n",
       "       [ 3. ],\n",
       "       [ 2.8],\n",
       "       [ 3. ],\n",
       "       [ 2.8],\n",
       "       [ 3.8],\n",
       "       [ 2.8],\n",
       "       [ 2.8],\n",
       "       [ 2.6],\n",
       "       [ 3. ],\n",
       "       [ 3.4],\n",
       "       [ 3.1],\n",
       "       [ 3. ],\n",
       "       [ 3.1],\n",
       "       [ 3.1],\n",
       "       [ 3.1],\n",
       "       [ 2.7],\n",
       "       [ 3.2],\n",
       "       [ 3.3],\n",
       "       [ 3. ],\n",
       "       [ 2.5],\n",
       "       [ 3. ],\n",
       "       [ 3.4],\n",
       "       [ 3. ]])"
      ]
     },
     "execution_count": 11,
     "metadata": {},
     "output_type": "execute_result"
    }
   ],
   "source": [
    "iris_X"
   ]
  },
  {
   "cell_type": "markdown",
   "metadata": {},
   "source": [
    "# Split the data of the independent variable into training/testing sets"
   ]
  },
  {
   "cell_type": "code",
   "execution_count": 13,
   "metadata": {
    "collapsed": true
   },
   "outputs": [],
   "source": [
    "iris_X_train = iris_X[:-20]\n",
    "iris_X_test = iris_X[-20:]"
   ]
  },
  {
   "cell_type": "code",
   "execution_count": 14,
   "metadata": {},
   "outputs": [
    {
     "data": {
      "text/plain": [
       "array([[ 3.5],\n",
       "       [ 3. ],\n",
       "       [ 3.2],\n",
       "       [ 3.1],\n",
       "       [ 3.6],\n",
       "       [ 3.9],\n",
       "       [ 3.4],\n",
       "       [ 3.4],\n",
       "       [ 2.9],\n",
       "       [ 3.1],\n",
       "       [ 3.7],\n",
       "       [ 3.4],\n",
       "       [ 3. ],\n",
       "       [ 3. ],\n",
       "       [ 4. ],\n",
       "       [ 4.4],\n",
       "       [ 3.9],\n",
       "       [ 3.5],\n",
       "       [ 3.8],\n",
       "       [ 3.8],\n",
       "       [ 3.4],\n",
       "       [ 3.7],\n",
       "       [ 3.6],\n",
       "       [ 3.3],\n",
       "       [ 3.4],\n",
       "       [ 3. ],\n",
       "       [ 3.4],\n",
       "       [ 3.5],\n",
       "       [ 3.4],\n",
       "       [ 3.2],\n",
       "       [ 3.1],\n",
       "       [ 3.4],\n",
       "       [ 4.1],\n",
       "       [ 4.2],\n",
       "       [ 3.1],\n",
       "       [ 3.2],\n",
       "       [ 3.5],\n",
       "       [ 3.1],\n",
       "       [ 3. ],\n",
       "       [ 3.4],\n",
       "       [ 3.5],\n",
       "       [ 2.3],\n",
       "       [ 3.2],\n",
       "       [ 3.5],\n",
       "       [ 3.8],\n",
       "       [ 3. ],\n",
       "       [ 3.8],\n",
       "       [ 3.2],\n",
       "       [ 3.7],\n",
       "       [ 3.3],\n",
       "       [ 3.2],\n",
       "       [ 3.2],\n",
       "       [ 3.1],\n",
       "       [ 2.3],\n",
       "       [ 2.8],\n",
       "       [ 2.8],\n",
       "       [ 3.3],\n",
       "       [ 2.4],\n",
       "       [ 2.9],\n",
       "       [ 2.7],\n",
       "       [ 2. ],\n",
       "       [ 3. ],\n",
       "       [ 2.2],\n",
       "       [ 2.9],\n",
       "       [ 2.9],\n",
       "       [ 3.1],\n",
       "       [ 3. ],\n",
       "       [ 2.7],\n",
       "       [ 2.2],\n",
       "       [ 2.5],\n",
       "       [ 3.2],\n",
       "       [ 2.8],\n",
       "       [ 2.5],\n",
       "       [ 2.8],\n",
       "       [ 2.9],\n",
       "       [ 3. ],\n",
       "       [ 2.8],\n",
       "       [ 3. ],\n",
       "       [ 2.9],\n",
       "       [ 2.6],\n",
       "       [ 2.4],\n",
       "       [ 2.4],\n",
       "       [ 2.7],\n",
       "       [ 2.7],\n",
       "       [ 3. ],\n",
       "       [ 3.4],\n",
       "       [ 3.1],\n",
       "       [ 2.3],\n",
       "       [ 3. ],\n",
       "       [ 2.5],\n",
       "       [ 2.6],\n",
       "       [ 3. ],\n",
       "       [ 2.6],\n",
       "       [ 2.3],\n",
       "       [ 2.7],\n",
       "       [ 3. ],\n",
       "       [ 2.9],\n",
       "       [ 2.9],\n",
       "       [ 2.5],\n",
       "       [ 2.8],\n",
       "       [ 3.3],\n",
       "       [ 2.7],\n",
       "       [ 3. ],\n",
       "       [ 2.9],\n",
       "       [ 3. ],\n",
       "       [ 3. ],\n",
       "       [ 2.5],\n",
       "       [ 2.9],\n",
       "       [ 2.5],\n",
       "       [ 3.6],\n",
       "       [ 3.2],\n",
       "       [ 2.7],\n",
       "       [ 3. ],\n",
       "       [ 2.5],\n",
       "       [ 2.8],\n",
       "       [ 3.2],\n",
       "       [ 3. ],\n",
       "       [ 3.8],\n",
       "       [ 2.6],\n",
       "       [ 2.2],\n",
       "       [ 3.2],\n",
       "       [ 2.8],\n",
       "       [ 2.8],\n",
       "       [ 2.7],\n",
       "       [ 3.3],\n",
       "       [ 3.2],\n",
       "       [ 2.8],\n",
       "       [ 3. ],\n",
       "       [ 2.8],\n",
       "       [ 3. ]])"
      ]
     },
     "execution_count": 14,
     "metadata": {},
     "output_type": "execute_result"
    }
   ],
   "source": [
    "iris_X_train"
   ]
  },
  {
   "cell_type": "code",
   "execution_count": 15,
   "metadata": {},
   "outputs": [
    {
     "data": {
      "text/plain": [
       "array([[ 2.8],\n",
       "       [ 3.8],\n",
       "       [ 2.8],\n",
       "       [ 2.8],\n",
       "       [ 2.6],\n",
       "       [ 3. ],\n",
       "       [ 3.4],\n",
       "       [ 3.1],\n",
       "       [ 3. ],\n",
       "       [ 3.1],\n",
       "       [ 3.1],\n",
       "       [ 3.1],\n",
       "       [ 2.7],\n",
       "       [ 3.2],\n",
       "       [ 3.3],\n",
       "       [ 3. ],\n",
       "       [ 2.5],\n",
       "       [ 3. ],\n",
       "       [ 3.4],\n",
       "       [ 3. ]])"
      ]
     },
     "execution_count": 15,
     "metadata": {},
     "output_type": "execute_result"
    }
   ],
   "source": [
    "iris_X_test"
   ]
  },
  {
   "cell_type": "markdown",
   "metadata": {},
   "source": [
    "# Create linear regression object"
   ]
  },
  {
   "cell_type": "code",
   "execution_count": 16,
   "metadata": {
    "collapsed": true
   },
   "outputs": [],
   "source": [
    "regr = linear_model.LinearRegression()"
   ]
  },
  {
   "cell_type": "markdown",
   "metadata": {},
   "source": [
    "# Train the model using the training sets"
   ]
  },
  {
   "cell_type": "code",
   "execution_count": 17,
   "metadata": {},
   "outputs": [
    {
     "data": {
      "text/plain": [
       "LinearRegression(copy_X=True, fit_intercept=True, n_jobs=1, normalize=False)"
      ]
     },
     "execution_count": 17,
     "metadata": {},
     "output_type": "execute_result"
    }
   ],
   "source": [
    "regr.fit(iris_X_train, iris_y_train)"
   ]
  },
  {
   "cell_type": "markdown",
   "metadata": {},
   "source": [
    "# Make predictions using the testing set"
   ]
  },
  {
   "cell_type": "code",
   "execution_count": 18,
   "metadata": {
    "collapsed": true
   },
   "outputs": [],
   "source": [
    "iris_y_pred = regr.predict(iris_X_test)"
   ]
  },
  {
   "cell_type": "markdown",
   "metadata": {},
   "source": [
    "# The coefficients"
   ]
  },
  {
   "cell_type": "code",
   "execution_count": 19,
   "metadata": {},
   "outputs": [
    {
     "name": "stdout",
     "output_type": "stream",
     "text": [
      "Coefficients: \n",
      " [[-0.26389832]]\n"
     ]
    }
   ],
   "source": [
    "print('Coefficients: \\n', regr.coef_)"
   ]
  },
  {
   "cell_type": "markdown",
   "metadata": {},
   "source": [
    "# The mean squared error"
   ]
  },
  {
   "cell_type": "code",
   "execution_count": 26,
   "metadata": {},
   "outputs": [
    {
     "name": "stdout",
     "output_type": "stream",
     "text": [
      "Mean squared error: 1.08801\n"
     ]
    }
   ],
   "source": [
    "print(\"Mean squared error: %.5f\"\n",
    "      % mean_squared_error(iris_y_test, iris_y_pred))"
   ]
  },
  {
   "cell_type": "markdown",
   "metadata": {},
   "source": [
    "# Explained variance score: 1 is perfect prediction"
   ]
  },
  {
   "cell_type": "code",
   "execution_count": 33,
   "metadata": {},
   "outputs": [
    {
     "name": "stdout",
     "output_type": "stream",
     "text": [
      "Variance score: -2.59701\n"
     ]
    }
   ],
   "source": [
    "print('Variance score: %.5f' % r2_score(iris_y_test, iris_y_pred))"
   ]
  },
  {
   "cell_type": "markdown",
   "metadata": {},
   "source": [
    "# Plot the Regression Line"
   ]
  },
  {
   "cell_type": "code",
   "execution_count": 32,
   "metadata": {},
   "outputs": [
    {
     "data": {
      "image/png": "[encoded data removed]",
      "text/plain": [
       "<matplotlib.figure.Figure at 0x117992a90>"
      ]
     },
     "metadata": {},
     "output_type": "display_data"
    }
   ],
   "source": [
    "plt.scatter(iris_X_test, iris_y_test,  color='blue')\n",
    "plt.plot(iris_X_test, iris_y_pred, color='orange', linewidth=1)\n",
    "\n",
    "plt.xticks(())\n",
    "plt.yticks(())\n",
    "\n",
    "plt.show()"
   ]
  }
 ],
 "metadata": {
  "celltoolbar": "Raw Cell Format",
  "kernelspec": {
   "display_name": "Python 3",
   "language": "python",
   "name": "python3"
  },
  "language_info": {
   "codemirror_mode": {
    "name": "ipython",
    "version": 3
   },
   "file_extension": ".py",
   "mimetype": "text/x-python",
   "name": "python",
   "nbconvert_exporter": "python",
   "pygments_lexer": "ipython3",
   "version": "3.6.1"
  }
 },
 "nbformat": 4,
 "nbformat_minor": 1
}
